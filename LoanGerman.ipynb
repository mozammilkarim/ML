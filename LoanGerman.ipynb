{
 "cells": [
  {
   "cell_type": "code",
   "execution_count": 1,
   "metadata": {},
   "outputs": [
    {
     "data": {
      "text/html": [
       "<div>\n",
       "<style scoped>\n",
       "    .dataframe tbody tr th:only-of-type {\n",
       "        vertical-align: middle;\n",
       "    }\n",
       "\n",
       "    .dataframe tbody tr th {\n",
       "        vertical-align: top;\n",
       "    }\n",
       "\n",
       "    .dataframe thead th {\n",
       "        text-align: right;\n",
       "    }\n",
       "</style>\n",
       "<table border=\"1\" class=\"dataframe\">\n",
       "  <thead>\n",
       "    <tr style=\"text-align: right;\">\n",
       "      <th></th>\n",
       "      <th>A1</th>\n",
       "      <th>A2</th>\n",
       "      <th>A3</th>\n",
       "      <th>A4</th>\n",
       "      <th>A5</th>\n",
       "      <th>A6</th>\n",
       "      <th>A7</th>\n",
       "      <th>A8</th>\n",
       "      <th>A9</th>\n",
       "      <th>A10</th>\n",
       "      <th>A11</th>\n",
       "      <th>A12</th>\n",
       "      <th>A13</th>\n",
       "      <th>A14</th>\n",
       "      <th>A15</th>\n",
       "      <th>A16</th>\n",
       "    </tr>\n",
       "  </thead>\n",
       "  <tbody>\n",
       "    <tr>\n",
       "      <th>0</th>\n",
       "      <td>b</td>\n",
       "      <td>30.83</td>\n",
       "      <td>0.00</td>\n",
       "      <td>u</td>\n",
       "      <td>g</td>\n",
       "      <td>w</td>\n",
       "      <td>v</td>\n",
       "      <td>1.25</td>\n",
       "      <td>t</td>\n",
       "      <td>t</td>\n",
       "      <td>1</td>\n",
       "      <td>f</td>\n",
       "      <td>g</td>\n",
       "      <td>00202</td>\n",
       "      <td>0</td>\n",
       "      <td>+</td>\n",
       "    </tr>\n",
       "    <tr>\n",
       "      <th>1</th>\n",
       "      <td>a</td>\n",
       "      <td>58.67</td>\n",
       "      <td>4.46</td>\n",
       "      <td>u</td>\n",
       "      <td>g</td>\n",
       "      <td>q</td>\n",
       "      <td>h</td>\n",
       "      <td>3.04</td>\n",
       "      <td>t</td>\n",
       "      <td>t</td>\n",
       "      <td>6</td>\n",
       "      <td>f</td>\n",
       "      <td>g</td>\n",
       "      <td>00043</td>\n",
       "      <td>560</td>\n",
       "      <td>+</td>\n",
       "    </tr>\n",
       "    <tr>\n",
       "      <th>2</th>\n",
       "      <td>a</td>\n",
       "      <td>24.50</td>\n",
       "      <td>0.50</td>\n",
       "      <td>u</td>\n",
       "      <td>g</td>\n",
       "      <td>q</td>\n",
       "      <td>h</td>\n",
       "      <td>1.50</td>\n",
       "      <td>t</td>\n",
       "      <td>f</td>\n",
       "      <td>0</td>\n",
       "      <td>f</td>\n",
       "      <td>g</td>\n",
       "      <td>00280</td>\n",
       "      <td>824</td>\n",
       "      <td>+</td>\n",
       "    </tr>\n",
       "    <tr>\n",
       "      <th>3</th>\n",
       "      <td>b</td>\n",
       "      <td>27.83</td>\n",
       "      <td>1.54</td>\n",
       "      <td>u</td>\n",
       "      <td>g</td>\n",
       "      <td>w</td>\n",
       "      <td>v</td>\n",
       "      <td>3.75</td>\n",
       "      <td>t</td>\n",
       "      <td>t</td>\n",
       "      <td>5</td>\n",
       "      <td>t</td>\n",
       "      <td>g</td>\n",
       "      <td>00100</td>\n",
       "      <td>3</td>\n",
       "      <td>+</td>\n",
       "    </tr>\n",
       "  </tbody>\n",
       "</table>\n",
       "</div>"
      ],
      "text/plain": [
       "  A1     A2    A3 A4 A5 A6 A7    A8 A9 A10  A11 A12 A13    A14  A15 A16\n",
       "0  b  30.83  0.00  u  g  w  v  1.25  t   t    1   f   g  00202    0   +\n",
       "1  a  58.67  4.46  u  g  q  h  3.04  t   t    6   f   g  00043  560   +\n",
       "2  a  24.50  0.50  u  g  q  h  1.50  t   f    0   f   g  00280  824   +\n",
       "3  b  27.83  1.54  u  g  w  v  3.75  t   t    5   t   g  00100    3   +"
      ]
     },
     "execution_count": 1,
     "metadata": {},
     "output_type": "execute_result"
    }
   ],
   "source": [
    "import pandas as pd\n",
    "data=pd.read_csv('./loanGermanDataset.csv',index_col=False,names=['A1','A2','A3','A4','A5','A6','A7','A8','A9','A10','A11','A12','A13','A14','A15','A16'])\n",
    "data.head(4)\n"
   ]
  },
  {
   "cell_type": "code",
   "execution_count": 2,
   "metadata": {},
   "outputs": [
    {
     "name": "stdout",
     "output_type": "stream",
     "text": [
      "<class 'pandas.core.frame.DataFrame'>\n",
      "RangeIndex: 690 entries, 0 to 689\n",
      "Data columns (total 16 columns):\n",
      " #   Column  Non-Null Count  Dtype  \n",
      "---  ------  --------------  -----  \n",
      " 0   A1      690 non-null    object \n",
      " 1   A2      690 non-null    object \n",
      " 2   A3      690 non-null    float64\n",
      " 3   A4      690 non-null    object \n",
      " 4   A5      690 non-null    object \n",
      " 5   A6      690 non-null    object \n",
      " 6   A7      690 non-null    object \n",
      " 7   A8      690 non-null    float64\n",
      " 8   A9      690 non-null    object \n",
      " 9   A10     690 non-null    object \n",
      " 10  A11     690 non-null    int64  \n",
      " 11  A12     690 non-null    object \n",
      " 12  A13     690 non-null    object \n",
      " 13  A14     690 non-null    object \n",
      " 14  A15     690 non-null    int64  \n",
      " 15  A16     690 non-null    object \n",
      "dtypes: float64(2), int64(2), object(12)\n",
      "memory usage: 86.4+ KB\n"
     ]
    },
    {
     "data": {
      "text/plain": [
       "None"
      ]
     },
     "metadata": {},
     "output_type": "display_data"
    },
    {
     "data": {
      "text/html": [
       "<div>\n",
       "<style scoped>\n",
       "    .dataframe tbody tr th:only-of-type {\n",
       "        vertical-align: middle;\n",
       "    }\n",
       "\n",
       "    .dataframe tbody tr th {\n",
       "        vertical-align: top;\n",
       "    }\n",
       "\n",
       "    .dataframe thead th {\n",
       "        text-align: right;\n",
       "    }\n",
       "</style>\n",
       "<table border=\"1\" class=\"dataframe\">\n",
       "  <thead>\n",
       "    <tr style=\"text-align: right;\">\n",
       "      <th></th>\n",
       "      <th>A3</th>\n",
       "      <th>A8</th>\n",
       "      <th>A11</th>\n",
       "      <th>A15</th>\n",
       "    </tr>\n",
       "  </thead>\n",
       "  <tbody>\n",
       "    <tr>\n",
       "      <th>count</th>\n",
       "      <td>690.000000</td>\n",
       "      <td>690.000000</td>\n",
       "      <td>690.00000</td>\n",
       "      <td>690.000000</td>\n",
       "    </tr>\n",
       "    <tr>\n",
       "      <th>mean</th>\n",
       "      <td>4.758725</td>\n",
       "      <td>2.223406</td>\n",
       "      <td>2.40000</td>\n",
       "      <td>1017.385507</td>\n",
       "    </tr>\n",
       "    <tr>\n",
       "      <th>std</th>\n",
       "      <td>4.978163</td>\n",
       "      <td>3.346513</td>\n",
       "      <td>4.86294</td>\n",
       "      <td>5210.102598</td>\n",
       "    </tr>\n",
       "    <tr>\n",
       "      <th>min</th>\n",
       "      <td>0.000000</td>\n",
       "      <td>0.000000</td>\n",
       "      <td>0.00000</td>\n",
       "      <td>0.000000</td>\n",
       "    </tr>\n",
       "    <tr>\n",
       "      <th>25%</th>\n",
       "      <td>1.000000</td>\n",
       "      <td>0.165000</td>\n",
       "      <td>0.00000</td>\n",
       "      <td>0.000000</td>\n",
       "    </tr>\n",
       "    <tr>\n",
       "      <th>50%</th>\n",
       "      <td>2.750000</td>\n",
       "      <td>1.000000</td>\n",
       "      <td>0.00000</td>\n",
       "      <td>5.000000</td>\n",
       "    </tr>\n",
       "    <tr>\n",
       "      <th>75%</th>\n",
       "      <td>7.207500</td>\n",
       "      <td>2.625000</td>\n",
       "      <td>3.00000</td>\n",
       "      <td>395.500000</td>\n",
       "    </tr>\n",
       "    <tr>\n",
       "      <th>max</th>\n",
       "      <td>28.000000</td>\n",
       "      <td>28.500000</td>\n",
       "      <td>67.00000</td>\n",
       "      <td>100000.000000</td>\n",
       "    </tr>\n",
       "  </tbody>\n",
       "</table>\n",
       "</div>"
      ],
      "text/plain": [
       "               A3          A8        A11            A15\n",
       "count  690.000000  690.000000  690.00000     690.000000\n",
       "mean     4.758725    2.223406    2.40000    1017.385507\n",
       "std      4.978163    3.346513    4.86294    5210.102598\n",
       "min      0.000000    0.000000    0.00000       0.000000\n",
       "25%      1.000000    0.165000    0.00000       0.000000\n",
       "50%      2.750000    1.000000    0.00000       5.000000\n",
       "75%      7.207500    2.625000    3.00000     395.500000\n",
       "max     28.000000   28.500000   67.00000  100000.000000"
      ]
     },
     "metadata": {},
     "output_type": "display_data"
    }
   ],
   "source": [
    "display(data.info(),data.describe())"
   ]
  },
  {
   "cell_type": "markdown",
   "metadata": {},
   "source": [
    "Most of the features are categorical/Object data Type.\n",
    "There appears to be no missing values in any column\n",
    "but the A2 column contain numerical values ,still it has object data Type.\n",
    "This is suspicious."
   ]
  },
  {
   "cell_type": "markdown",
   "metadata": {},
   "source": [
    "### Most of the columns contain missing values in the form of ? or may contain any extra special character"
   ]
  },
  {
   "cell_type": "markdown",
   "metadata": {},
   "source": [
    "Missing Attribute Values:\n",
    "    37 cases (5%) have one or more missing values.  The missing\n",
    "    values from particular attributes are:\n",
    "\n",
    "    A1:  12\n",
    "    A2:  12\n",
    "    A4:   6\n",
    "    A5:   6\n",
    "    A6:   9\n",
    "    A7:   9\n",
    "    A14: 13\n",
    "### From The information about the Dataset"
   ]
  },
  {
   "cell_type": "code",
   "execution_count": 3,
   "metadata": {},
   "outputs": [],
   "source": [
    "import numpy as np\n",
    "data.replace('?',np.nan,inplace=True)\n",
    "# we cannot remove the whole records\n",
    "# data.A1.unique()\n",
    "# data.loc[601,:]\n",
    "# data.isnull().values.any()\n",
    "# data['A1'].head(10)"
   ]
  },
  {
   "cell_type": "code",
   "execution_count": 4,
   "metadata": {},
   "outputs": [
    {
     "data": {
      "text/plain": [
       "22.67    9\n",
       "20.42    7\n",
       "25.00    6\n",
       "23.58    6\n",
       "20.67    6\n",
       "        ..\n",
       "31.75    1\n",
       "38.42    1\n",
       "34.50    1\n",
       "41.50    1\n",
       "27.33    1\n",
       "Name: A2, Length: 349, dtype: int64"
      ]
     },
     "execution_count": 4,
     "metadata": {},
     "output_type": "execute_result"
    }
   ],
   "source": [
    "# let us first check whether we have other than integers\n",
    "# in A2 column\n",
    "# data.A2.value_counts(ascending=True)\n",
    "# data.A2.unique()\n",
    "# this shows we have ? in our feauture at some data points\n",
    "import numpy as np\n",
    "data.A2.replace('?',np.nan,inplace=True)\n",
    "data.A2.value_counts()\n",
    "# data.A2.unique()\n"
   ]
  },
  {
   "cell_type": "code",
   "execution_count": 5,
   "metadata": {},
   "outputs": [
    {
     "data": {
      "text/plain": [
       "A1      object\n",
       "A2     float64\n",
       "A3     float64\n",
       "A4      object\n",
       "A5      object\n",
       "A6      object\n",
       "A7      object\n",
       "A8     float64\n",
       "A9      object\n",
       "A10     object\n",
       "A11      int64\n",
       "A12     object\n",
       "A13     object\n",
       "A14     object\n",
       "A15      int64\n",
       "A16     object\n",
       "dtype: object"
      ]
     },
     "execution_count": 5,
     "metadata": {},
     "output_type": "execute_result"
    }
   ],
   "source": [
    "# now converting the data type of A2 column\n",
    "data['A2']=data['A2'].astype('float64')\n",
    "# data.select_dtypes(include=['object'])\n",
    "data.dtypes\n",
    "# now let us impute the nan values in A2 after slight\n",
    "# exploration of this feature\n"
   ]
  },
  {
   "cell_type": "code",
   "execution_count": 6,
   "metadata": {},
   "outputs": [
    {
     "data": {
      "text/plain": [
       "count    690.000000\n",
       "mean      31.514116\n",
       "std       11.860245\n",
       "min       13.750000\n",
       "25%       22.670000\n",
       "50%       28.460000\n",
       "75%       37.707500\n",
       "max       80.250000\n",
       "Name: A2, dtype: float64"
      ]
     },
     "execution_count": 6,
     "metadata": {},
     "output_type": "execute_result"
    },
    {
     "data": {
      "image/png": "[encoded data removed]",
      "text/plain": [
       "<Figure size 432x288 with 1 Axes>"
      ]
     },
     "metadata": {
      "needs_background": "light"
     },
     "output_type": "display_data"
    }
   ],
   "source": [
    "\n",
    "import seaborn as sns\n",
    "sns.boxplot(x=data.A2)\n",
    "# there are many outliers in the A2 feature\n",
    "# data.A2.median() # median is 28.46\n",
    "data.A2.fillna(28.46,inplace=True)\n",
    "data.A2.describe()\n",
    "# sns.barplot(y=data.A2,x=data.A16)\n",
    "# data set is also balanced"
   ]
  },
  {
   "cell_type": "code",
   "execution_count": 7,
   "metadata": {},
   "outputs": [
    {
     "data": {
      "text/plain": [
       "False"
      ]
     },
     "execution_count": 7,
     "metadata": {},
     "output_type": "execute_result"
    }
   ],
   "source": [
    "data.A1.value_counts()\n",
    "# data.A1.unique()\n",
    "#  imputing the nan values with 'Missing' category\n",
    "data.A1.fillna('Missing',inplace=True)\n",
    "data.A1.isnull().values.any()\n",
    "# Through this way, I have captured the meaning of data set\n"
   ]
  },
  {
   "cell_type": "code",
   "execution_count": 8,
   "metadata": {},
   "outputs": [
    {
     "data": {
      "text/plain": [
       "v          399\n",
       "h          138\n",
       "bb          59\n",
       "ff          57\n",
       "Missing      9\n",
       "j            8\n",
       "z            8\n",
       "dd           6\n",
       "n            4\n",
       "o            2\n",
       "Name: A7, dtype: int64"
      ]
     },
     "execution_count": 8,
     "metadata": {},
     "output_type": "execute_result"
    }
   ],
   "source": [
    "# imputing A4 feature\n",
    "data.A4.fillna('Missing',inplace=True)\n",
    "data.A4.value_counts()\n",
    "# data.A4.unique()\n",
    "# imputing A5 feature\n",
    "data.A5.fillna('Missing',inplace=True)\n",
    "data.A5.value_counts()\n",
    "# imputing A6 feature\n",
    "data.A6.fillna('Missing',inplace=True)\n",
    "data.A6.value_counts()\n",
    "# imputing A7 feature\n",
    "data.A7.fillna('Missing',inplace=True)\n",
    "data.A7.value_counts()"
   ]
  },
  {
   "cell_type": "code",
   "execution_count": 9,
   "metadata": {},
   "outputs": [
    {
     "data": {
      "text/plain": [
       "0.0      132\n",
       "160.0     47\n",
       "120.0     35\n",
       "200.0     35\n",
       "100.0     30\n",
       "        ... \n",
       "224.0      1\n",
       "186.0      1\n",
       "32.0       1\n",
       "432.0      1\n",
       "202.0      1\n",
       "Name: A14, Length: 170, dtype: int64"
      ]
     },
     "execution_count": 9,
     "metadata": {},
     "output_type": "execute_result"
    }
   ],
   "source": [
    "# for A14\n",
    "data.A14.dtypes\n",
    "data.A14=data.A14.astype('float64')\n",
    "data.A14.median()\n",
    "data.A14.fillna(160.0,inplace=True)\n",
    "data.A14.value_counts()"
   ]
  },
  {
   "cell_type": "code",
   "execution_count": 10,
   "metadata": {},
   "outputs": [
    {
     "data": {
      "text/plain": [
       "False"
      ]
     },
     "execution_count": 10,
     "metadata": {},
     "output_type": "execute_result"
    }
   ],
   "source": [
    "data.isnull().values.any()"
   ]
  },
  {
   "cell_type": "code",
   "execution_count": 11,
   "metadata": {},
   "outputs": [
    {
     "data": {
      "text/plain": [
       "A1      object\n",
       "A2     float64\n",
       "A3     float64\n",
       "A4      object\n",
       "A5      object\n",
       "A6      object\n",
       "A7      object\n",
       "A8     float64\n",
       "A9      object\n",
       "A10     object\n",
       "A11      int64\n",
       "A12     object\n",
       "A13     object\n",
       "A14    float64\n",
       "A15      int64\n",
       "A16     object\n",
       "dtype: object"
      ]
     },
     "execution_count": 11,
     "metadata": {},
     "output_type": "execute_result"
    }
   ],
   "source": [
    "data.dtypes"
   ]
  },
  {
   "cell_type": "code",
   "execution_count": 12,
   "metadata": {},
   "outputs": [
    {
     "data": {
      "text/plain": [
       "Index(['A1', 'A2', 'A3', 'A4', 'A5', 'A6', 'A7', 'A8', 'A9', 'A10', 'A11',\n",
       "       'A12', 'A13', 'A14', 'A15', 'A16', 'a1', 'b1', 'l4', 'u4', 'y4', 'g5',\n",
       "       'gg5', 'p5', 'aa6', 'c6', 'cc6', 'd6', 'e6', 'ff6', 'i6', 'j6', 'k6',\n",
       "       'm6', 'q6', 'r6', 'w6', 'x6', 'bb7', 'dd7', 'ff7', 'h7', 'j7', 'n7',\n",
       "       'o7', 'v7', 'z7', 't9', 't10', 't12', 'p13', 's13', 'OutputNegative'],\n",
       "      dtype='object')"
      ]
     },
     "execution_count": 12,
     "metadata": {},
     "output_type": "execute_result"
    }
   ],
   "source": [
    "\n",
    "dummiesA1 = pd.get_dummies(data['A1'],drop_first=True,columns=['aA1','bA1'])\n",
    "dummiesA1.rename(columns=lambda x:x+'1',inplace=True)\n",
    "dummiesA4=pd.get_dummies(data['A4'],drop_first=True)\n",
    "dummiesA4.rename(columns=lambda x:x+'4',inplace=True)\n",
    "dummiesA5=pd.get_dummies(data['A5'],drop_first=True)\n",
    "dummiesA5.rename(columns=lambda x:x+'5',inplace=True)\n",
    "dummiesA7=pd.get_dummies(data['A7'],drop_first=True)\n",
    "dummiesA7.rename(columns=lambda x:x+'7',inplace=True)\n",
    "\n",
    "dummiesA9=pd.get_dummies(data['A9'],drop_first=True)\n",
    "dummiesA9.rename(columns=lambda x:x+'9',inplace=True)\n",
    "dummiesA10=pd.get_dummies(data['A10'],drop_first=True)\n",
    "dummiesA10.rename(columns=lambda x:x+'10',inplace=True)\n",
    "dummiesA12=pd.get_dummies(data['A12'],drop_first=True)\n",
    "dummiesA12.rename(columns=lambda x:x+'12',inplace=True)\n",
    "dummiesA13=pd.get_dummies(data['A13'],drop_first=True)\n",
    "dummiesA13.rename(columns=lambda x:x+'13',inplace=True)\n",
    "# dummiesA4.head(4)\n",
    "# A6 has many categories\n",
    "data.A6.value_counts()\n",
    "# we cannot ignore some categorical values as our data set is small\n",
    "dummiesA6=pd.get_dummies(data['A6'],drop_first=True)\n",
    "dummiesA6.rename(columns=lambda x:x+'6',inplace=True)\n",
    "output=pd.get_dummies(data['A16'],drop_first=True)\n",
    "output.rename(columns={'-':'OutputNegative'},inplace=True)\n",
    "# replacing + -> 0 and - --> 1\n",
    "\n",
    "data=pd.concat([data,dummiesA1,dummiesA4,dummiesA5,dummiesA6,dummiesA7,dummiesA9,dummiesA10,dummiesA12,dummiesA13,output],axis=1)\n",
    "data.columns.unique()"
   ]
  },
  {
   "cell_type": "code",
   "execution_count": 13,
   "metadata": {},
   "outputs": [
    {
     "data": {
      "text/html": [
       "<div>\n",
       "<style scoped>\n",
       "    .dataframe tbody tr th:only-of-type {\n",
       "        vertical-align: middle;\n",
       "    }\n",
       "\n",
       "    .dataframe tbody tr th {\n",
       "        vertical-align: top;\n",
       "    }\n",
       "\n",
       "    .dataframe thead th {\n",
       "        text-align: right;\n",
       "    }\n",
       "</style>\n",
       "<table border=\"1\" class=\"dataframe\">\n",
       "  <thead>\n",
       "    <tr style=\"text-align: right;\">\n",
       "      <th></th>\n",
       "      <th>OutputNegative</th>\n",
       "    </tr>\n",
       "  </thead>\n",
       "  <tbody>\n",
       "    <tr>\n",
       "      <th>0</th>\n",
       "      <td>0</td>\n",
       "    </tr>\n",
       "    <tr>\n",
       "      <th>1</th>\n",
       "      <td>0</td>\n",
       "    </tr>\n",
       "    <tr>\n",
       "      <th>2</th>\n",
       "      <td>0</td>\n",
       "    </tr>\n",
       "    <tr>\n",
       "      <th>3</th>\n",
       "      <td>0</td>\n",
       "    </tr>\n",
       "    <tr>\n",
       "      <th>4</th>\n",
       "      <td>0</td>\n",
       "    </tr>\n",
       "    <tr>\n",
       "      <th>...</th>\n",
       "      <td>...</td>\n",
       "    </tr>\n",
       "    <tr>\n",
       "      <th>685</th>\n",
       "      <td>1</td>\n",
       "    </tr>\n",
       "    <tr>\n",
       "      <th>686</th>\n",
       "      <td>1</td>\n",
       "    </tr>\n",
       "    <tr>\n",
       "      <th>687</th>\n",
       "      <td>1</td>\n",
       "    </tr>\n",
       "    <tr>\n",
       "      <th>688</th>\n",
       "      <td>1</td>\n",
       "    </tr>\n",
       "    <tr>\n",
       "      <th>689</th>\n",
       "      <td>1</td>\n",
       "    </tr>\n",
       "  </tbody>\n",
       "</table>\n",
       "<p>690 rows × 1 columns</p>\n",
       "</div>"
      ],
      "text/plain": [
       "     OutputNegative\n",
       "0                 0\n",
       "1                 0\n",
       "2                 0\n",
       "3                 0\n",
       "4                 0\n",
       "..              ...\n",
       "685               1\n",
       "686               1\n",
       "687               1\n",
       "688               1\n",
       "689               1\n",
       "\n",
       "[690 rows x 1 columns]"
      ]
     },
     "execution_count": 13,
     "metadata": {},
     "output_type": "execute_result"
    }
   ],
   "source": [
    "# data.A16.value_counts()\n",
    "output=pd.get_dummies(data['A16'],drop_first=True)\n",
    "output.rename(columns={'-':'OutputNegative'},inplace=True)\n",
    "output"
   ]
  },
  {
   "cell_type": "code",
   "execution_count": 14,
   "metadata": {},
   "outputs": [
    {
     "name": "stdout",
     "output_type": "stream",
     "text": [
      "<class 'pandas.core.frame.DataFrame'>\n",
      "RangeIndex: 690 entries, 0 to 689\n",
      "Data columns (total 43 columns):\n",
      " #   Column          Non-Null Count  Dtype  \n",
      "---  ------          --------------  -----  \n",
      " 0   A2              690 non-null    float64\n",
      " 1   A3              690 non-null    float64\n",
      " 2   A8              690 non-null    float64\n",
      " 3   A11             690 non-null    int64  \n",
      " 4   A14             690 non-null    float64\n",
      " 5   A15             690 non-null    int64  \n",
      " 6   a1              690 non-null    uint8  \n",
      " 7   b1              690 non-null    uint8  \n",
      " 8   l4              690 non-null    uint8  \n",
      " 9   u4              690 non-null    uint8  \n",
      " 10  y4              690 non-null    uint8  \n",
      " 11  g5              690 non-null    uint8  \n",
      " 12  gg5             690 non-null    uint8  \n",
      " 13  p5              690 non-null    uint8  \n",
      " 14  aa6             690 non-null    uint8  \n",
      " 15  c6              690 non-null    uint8  \n",
      " 16  cc6             690 non-null    uint8  \n",
      " 17  d6              690 non-null    uint8  \n",
      " 18  e6              690 non-null    uint8  \n",
      " 19  ff6             690 non-null    uint8  \n",
      " 20  i6              690 non-null    uint8  \n",
      " 21  j6              690 non-null    uint8  \n",
      " 22  k6              690 non-null    uint8  \n",
      " 23  m6              690 non-null    uint8  \n",
      " 24  q6              690 non-null    uint8  \n",
      " 25  r6              690 non-null    uint8  \n",
      " 26  w6              690 non-null    uint8  \n",
      " 27  x6              690 non-null    uint8  \n",
      " 28  bb7             690 non-null    uint8  \n",
      " 29  dd7             690 non-null    uint8  \n",
      " 30  ff7             690 non-null    uint8  \n",
      " 31  h7              690 non-null    uint8  \n",
      " 32  j7              690 non-null    uint8  \n",
      " 33  n7              690 non-null    uint8  \n",
      " 34  o7              690 non-null    uint8  \n",
      " 35  v7              690 non-null    uint8  \n",
      " 36  z7              690 non-null    uint8  \n",
      " 37  t9              690 non-null    uint8  \n",
      " 38  t10             690 non-null    uint8  \n",
      " 39  t12             690 non-null    uint8  \n",
      " 40  p13             690 non-null    uint8  \n",
      " 41  s13             690 non-null    uint8  \n",
      " 42  OutputNegative  690 non-null    uint8  \n",
      "dtypes: float64(4), int64(2), uint8(37)\n",
      "memory usage: 57.4 KB\n"
     ]
    }
   ],
   "source": [
    "# data.columns.unique()\n",
    "# data.columns.value_counts()\n",
    "# data.info()\n",
    "\n",
    "# it would be better if i drop all object type columns\n",
    "# toDropCol=[]\n",
    "# for i in data.columns:\n",
    "#     if (data['{}'.format(i)].dtype=='O' ):\n",
    "#         toDropCol.append(i)\n",
    "# toDropCol\n",
    "# data1=data.drop(toDropCol,axis=1)\n",
    "# data1.info()\n",
    "\n",
    "# let us try to do this in less lines\n",
    "data2=data.drop([i for i in data.columns if data['{}'.format(i)].dtype=='O'],axis=1)\n",
    "data2.info()"
   ]
  },
  {
   "cell_type": "markdown",
   "metadata": {},
   "source": [
    "# A little Data Exploration"
   ]
  },
  {
   "cell_type": "code",
   "execution_count": 15,
   "metadata": {},
   "outputs": [
    {
     "data": {
      "text/plain": [
       "A2               -0.164086\n",
       "A3               -0.206294\n",
       "A8               -0.322475\n",
       "A11              -0.406410\n",
       "A14               0.100042\n",
       "A15              -0.175657\n",
       "a1               -0.028934\n",
       "b1                0.013897\n",
       "l4               -0.060221\n",
       "u4               -0.169423\n",
       "y4                0.188964\n",
       "g5               -0.169423\n",
       "gg5              -0.060221\n",
       "p5                0.188964\n",
       "aa6               0.054574\n",
       "c6               -0.007639\n",
       "cc6              -0.132708\n",
       "d6                0.090776\n",
       "e6               -0.044896\n",
       "ff6               0.181588\n",
       "i6                0.127762\n",
       "j6                0.035365\n",
       "k6                0.096879\n",
       "m6                0.011598\n",
       "q6               -0.150082\n",
       "r6               -0.029485\n",
       "w6               -0.045487\n",
       "x6               -0.192945\n",
       "bb7               0.013044\n",
       "dd7               0.021031\n",
       "ff7               0.183913\n",
       "h7               -0.186643\n",
       "j7                0.015240\n",
       "n7               -0.008462\n",
       "o7               -0.005975\n",
       "v7                0.050350\n",
       "z7               -0.066487\n",
       "t9               -0.720407\n",
       "t10              -0.458301\n",
       "t12              -0.031625\n",
       "p13              -0.039245\n",
       "s13               0.109758\n",
       "OutputNegative    1.000000\n",
       "Name: OutputNegative, dtype: float64"
      ]
     },
     "execution_count": 15,
     "metadata": {},
     "output_type": "execute_result"
    }
   ],
   "source": [
    "# sns.heatmap(data1.corr(),annot=True)\n",
    "corrMatrix=data2.corr()\n",
    "corrMatrix['OutputNegative']\n"
   ]
  },
  {
   "cell_type": "markdown",
   "metadata": {},
   "source": [
    "### A8,A11,t9,t10 are strongly Negatively correlated to OutputNegative\n",
    "### ff7, ff6, p5, y4 are weekly positively correlated to OutputNegative "
   ]
  },
  {
   "cell_type": "code",
   "execution_count": 16,
   "metadata": {},
   "outputs": [
    {
     "data": {
      "text/plain": [
       "A2                0.204434\n",
       "A3                0.244317\n",
       "A8                0.345689\n",
       "A11               0.379532\n",
       "A14              -0.065836\n",
       "A15               0.090012\n",
       "a1                0.026047\n",
       "b1                0.000918\n",
       "l4               -0.056478\n",
       "u4                0.164424\n",
       "y4               -0.138535\n",
       "g5                0.164424\n",
       "gg5              -0.056478\n",
       "p5               -0.138535\n",
       "aa6               0.018883\n",
       "c6                0.002351\n",
       "cc6               0.092659\n",
       "d6               -0.081042\n",
       "e6                0.029818\n",
       "ff6              -0.171392\n",
       "i6               -0.112775\n",
       "j6               -0.029910\n",
       "k6               -0.074115\n",
       "m6                0.001512\n",
       "q6                0.157537\n",
       "r6                0.018983\n",
       "w6                0.025166\n",
       "x6                0.154150\n",
       "bb7               0.042875\n",
       "dd7              -0.035601\n",
       "ff7              -0.177308\n",
       "h7                0.187158\n",
       "j7               -0.032134\n",
       "n7               -0.041766\n",
       "o7               -0.056478\n",
       "v7               -0.045550\n",
       "z7                0.076289\n",
       "t9                1.000000\n",
       "t10               0.432032\n",
       "t12               0.091276\n",
       "p13              -0.113451\n",
       "s13              -0.092985\n",
       "OutputNegative   -0.720407\n",
       "Name: t9, dtype: float64"
      ]
     },
     "execution_count": 16,
     "metadata": {},
     "output_type": "execute_result"
    }
   ],
   "source": [
    "# corrMatrix['A8']\n",
    "# # shows strong correlation with A11 ,t9, ff7\n",
    "# corrMatrix['A11']\n",
    "# # shows strong correlation with t9, t10\n",
    "corrMatrix['t9']\n",
    "# # shows strong correlation with t10, ff7\n",
    "# corrMatrix['t10']\n",
    "# corrMatrix['y4']\n",
    "# # shows very strong correlation with p5(y4==p5)\n",
    "# corrMatrix['ff7']\n",
    "# # shows ff7==ff6"
   ]
  },
  {
   "cell_type": "markdown",
   "metadata": {},
   "source": [
    "### we will not use ff7,p5 for model fitting \n",
    "we may use scatter plot to further strengthen our inferences about feature selection "
   ]
  },
  {
   "cell_type": "code",
   "execution_count": 17,
   "metadata": {},
   "outputs": [
    {
     "data": {
      "text/plain": [
       "<seaborn.axisgrid.JointGrid at 0x193d281c760>"
      ]
     },
     "execution_count": 17,
     "metadata": {},
     "output_type": "execute_result"
    },
    {
     "data": {
      "image/png": "[encoded data removed]",
      "text/plain": [
       "<Figure size 432x432 with 3 Axes>"
      ]
     },
     "metadata": {
      "needs_background": "light"
     },
     "output_type": "display_data"
    }
   ],
   "source": [
    "sns.jointplot(y='A11',x='OutputNegative',data=data2,kind='scatter',color='r')"
   ]
  },
  {
   "cell_type": "markdown",
   "metadata": {},
   "source": [
    "### a little bit of scaling for continous features is required. Transformation is not needed i guess .Feature selection may be used .\n"
   ]
  },
  {
   "cell_type": "markdown",
   "metadata": {},
   "source": [
    "### doing feature scaling of continous features"
   ]
  },
  {
   "cell_type": "code",
   "execution_count": 18,
   "metadata": {},
   "outputs": [],
   "source": [
    "# data2.info()\n",
    "cols=['A2','A3','A8','A11','A14','A15']\n",
    "scaledData=data2.copy()"
   ]
  },
  {
   "cell_type": "code",
   "execution_count": 19,
   "metadata": {},
   "outputs": [
    {
     "data": {
      "text/html": [
       "<div>\n",
       "<style scoped>\n",
       "    .dataframe tbody tr th:only-of-type {\n",
       "        vertical-align: middle;\n",
       "    }\n",
       "\n",
       "    .dataframe tbody tr th {\n",
       "        vertical-align: top;\n",
       "    }\n",
       "\n",
       "    .dataframe thead th {\n",
       "        text-align: right;\n",
       "    }\n",
       "</style>\n",
       "<table border=\"1\" class=\"dataframe\">\n",
       "  <thead>\n",
       "    <tr style=\"text-align: right;\">\n",
       "      <th></th>\n",
       "      <th>A2</th>\n",
       "      <th>A3</th>\n",
       "      <th>A8</th>\n",
       "      <th>A11</th>\n",
       "      <th>A14</th>\n",
       "      <th>A15</th>\n",
       "      <th>a1</th>\n",
       "      <th>b1</th>\n",
       "      <th>l4</th>\n",
       "      <th>u4</th>\n",
       "      <th>...</th>\n",
       "      <th>n7</th>\n",
       "      <th>o7</th>\n",
       "      <th>v7</th>\n",
       "      <th>z7</th>\n",
       "      <th>t9</th>\n",
       "      <th>t10</th>\n",
       "      <th>t12</th>\n",
       "      <th>p13</th>\n",
       "      <th>s13</th>\n",
       "      <th>OutputNegative</th>\n",
       "    </tr>\n",
       "  </thead>\n",
       "  <tbody>\n",
       "    <tr>\n",
       "      <th>0</th>\n",
       "      <td>-0.057723</td>\n",
       "      <td>-0.956613</td>\n",
       "      <td>-0.291083</td>\n",
       "      <td>-0.288101</td>\n",
       "      <td>0.107155</td>\n",
       "      <td>-0.195413</td>\n",
       "      <td>0</td>\n",
       "      <td>1</td>\n",
       "      <td>0</td>\n",
       "      <td>1</td>\n",
       "      <td>...</td>\n",
       "      <td>0</td>\n",
       "      <td>0</td>\n",
       "      <td>1</td>\n",
       "      <td>0</td>\n",
       "      <td>1</td>\n",
       "      <td>1</td>\n",
       "      <td>0</td>\n",
       "      <td>0</td>\n",
       "      <td>0</td>\n",
       "      <td>0</td>\n",
       "    </tr>\n",
       "    <tr>\n",
       "      <th>1</th>\n",
       "      <td>2.291317</td>\n",
       "      <td>-0.060051</td>\n",
       "      <td>0.244190</td>\n",
       "      <td>0.740830</td>\n",
       "      <td>-0.816912</td>\n",
       "      <td>-0.087852</td>\n",
       "      <td>1</td>\n",
       "      <td>0</td>\n",
       "      <td>0</td>\n",
       "      <td>1</td>\n",
       "      <td>...</td>\n",
       "      <td>0</td>\n",
       "      <td>0</td>\n",
       "      <td>0</td>\n",
       "      <td>0</td>\n",
       "      <td>1</td>\n",
       "      <td>1</td>\n",
       "      <td>0</td>\n",
       "      <td>0</td>\n",
       "      <td>0</td>\n",
       "      <td>0</td>\n",
       "    </tr>\n",
       "    <tr>\n",
       "      <th>2</th>\n",
       "      <td>-0.591826</td>\n",
       "      <td>-0.856102</td>\n",
       "      <td>-0.216324</td>\n",
       "      <td>-0.493887</td>\n",
       "      <td>0.560471</td>\n",
       "      <td>-0.037144</td>\n",
       "      <td>1</td>\n",
       "      <td>0</td>\n",
       "      <td>0</td>\n",
       "      <td>1</td>\n",
       "      <td>...</td>\n",
       "      <td>0</td>\n",
       "      <td>0</td>\n",
       "      <td>0</td>\n",
       "      <td>0</td>\n",
       "      <td>1</td>\n",
       "      <td>0</td>\n",
       "      <td>0</td>\n",
       "      <td>0</td>\n",
       "      <td>0</td>\n",
       "      <td>0</td>\n",
       "    </tr>\n",
       "    <tr>\n",
       "      <th>3</th>\n",
       "      <td>-0.310853</td>\n",
       "      <td>-0.647038</td>\n",
       "      <td>0.456505</td>\n",
       "      <td>0.535044</td>\n",
       "      <td>-0.485643</td>\n",
       "      <td>-0.194837</td>\n",
       "      <td>0</td>\n",
       "      <td>1</td>\n",
       "      <td>0</td>\n",
       "      <td>1</td>\n",
       "      <td>...</td>\n",
       "      <td>0</td>\n",
       "      <td>0</td>\n",
       "      <td>1</td>\n",
       "      <td>0</td>\n",
       "      <td>1</td>\n",
       "      <td>1</td>\n",
       "      <td>1</td>\n",
       "      <td>0</td>\n",
       "      <td>0</td>\n",
       "      <td>0</td>\n",
       "    </tr>\n",
       "  </tbody>\n",
       "</table>\n",
       "<p>4 rows × 43 columns</p>\n",
       "</div>"
      ],
      "text/plain": [
       "         A2        A3        A8       A11       A14       A15  a1  b1  l4  u4  \\\n",
       "0 -0.057723 -0.956613 -0.291083 -0.288101  0.107155 -0.195413   0   1   0   1   \n",
       "1  2.291317 -0.060051  0.244190  0.740830 -0.816912 -0.087852   1   0   0   1   \n",
       "2 -0.591826 -0.856102 -0.216324 -0.493887  0.560471 -0.037144   1   0   0   1   \n",
       "3 -0.310853 -0.647038  0.456505  0.535044 -0.485643 -0.194837   0   1   0   1   \n",
       "\n",
       "   ...  n7  o7  v7  z7  t9  t10  t12  p13  s13  OutputNegative  \n",
       "0  ...   0   0   1   0   1    1    0    0    0               0  \n",
       "1  ...   0   0   0   0   1    1    0    0    0               0  \n",
       "2  ...   0   0   0   0   1    0    0    0    0               0  \n",
       "3  ...   0   0   1   0   1    1    1    0    0               0  \n",
       "\n",
       "[4 rows x 43 columns]"
      ]
     },
     "execution_count": 19,
     "metadata": {},
     "output_type": "execute_result"
    }
   ],
   "source": [
    "from sklearn.preprocessing import StandardScaler\n",
    "scaler=StandardScaler()\n",
    "scaledData[cols]=scaler.fit_transform(data2[cols])\n",
    "# scaledData\n",
    "scaledData.head(4)"
   ]
  },
  {
   "cell_type": "code",
   "execution_count": 20,
   "metadata": {},
   "outputs": [
    {
     "data": {
      "text/plain": [
       "84.04534062428799"
      ]
     },
     "execution_count": 20,
     "metadata": {},
     "output_type": "execute_result"
    }
   ],
   "source": [
    "from sklearn.ensemble import RandomForestClassifier\n",
    "clf=RandomForestClassifier(n_estimators=35,random_state=21)\n",
    "from sklearn.model_selection import cross_val_score\n",
    "score=cross_val_score(clf,scaledData[['A11','t9','y4','ff6']],scaledData['OutputNegative'],cv=9)\n",
    "score.mean()*100\n",
    "# estimators=[10,50,100,150,200]\n",
    "# Only the above features are relevant because rest are either not correlated to Output or redundant"
   ]
  },
  {
   "cell_type": "code",
   "execution_count": 21,
   "metadata": {},
   "outputs": [
    {
     "name": "stdout",
     "output_type": "stream",
     "text": [
      "the accuracy using 3 is 0.7593035619351408 \n",
      "the accuracy using 4 is 0.74481658692185 \n",
      "the accuracy using 5 is 0.7476836029467608 \n",
      "the accuracy using 8 is 0.7331206804891015 \n",
      "the accuracy using 10 is 0.7447216526163893 \n",
      "the accuracy using 15 is 0.7301967038809143 \n",
      "the accuracy using 12 is 0.7389496468443837 \n",
      "the accuracy using 20 is 0.7418356497303865 \n",
      "the accuracy using 25 is 0.741740715424926 \n",
      "the accuracy using 30 is 0.7432786511733881 \n",
      "the accuracy using 40 is 0.7389496468443837 \n",
      "the accuracy using 50 is 0.7404116351484773 \n",
      "the accuracy using 80 is 0.7186337054758107 \n"
     ]
    }
   ],
   "source": [
    "# using knn classifier\n",
    "from sklearn.neighbors import KNeighborsClassifier\n",
    "# clf=KNeighborsClassifier()\n",
    "neihbours=[3,4,5,8,10,15,12,20,25,30,40,50,80]\n",
    "for i in neihbours:\n",
    "    clf=KNeighborsClassifier(n_neighbors=i)\n",
    "    score=cross_val_score(clf,scaledData[cols],data['OutputNegative'],cv=9)\n",
    "    print('the accuracy using {} is {} '.format(i,score.mean()))"
   ]
  },
  {
   "cell_type": "markdown",
   "metadata": {},
   "source": [
    "## i may try HyperOptisation technique some day on this data set or do something else\n"
   ]
  }
 ],
 "metadata": {
  "kernelspec": {
   "display_name": "Python 3",
   "language": "python",
   "name": "python3"
  },
  "language_info": {
   "codemirror_mode": {
    "name": "ipython",
    "version": 3
   },
   "file_extension": ".py",
   "mimetype": "text/x-python",
   "name": "python",
   "nbconvert_exporter": "python",
   "pygments_lexer": "ipython3",
   "version": "3.8.3"
  }
 },
 "nbformat": 4,
 "nbformat_minor": 4
}
